{
 "cells": [
  {
   "cell_type": "markdown",
   "source": [
    "### Probability Distributions as Python Objects:   "
   ],
   "metadata": {
    "collapsed": false
   },
   "id": "798f6643f44f8826"
  },
  {
   "cell_type": "code",
   "execution_count": 5,
   "outputs": [],
   "source": [
    "import numpy as np\n",
    "import numpy.random as random\n",
    "from scipy import stats\n",
    "import scipy"
   ],
   "metadata": {
    "collapsed": false,
    "ExecuteTime": {
     "end_time": "2023-10-14T14:47:00.966749Z",
     "start_time": "2023-10-14T14:46:59.325186Z"
    }
   },
   "id": "1b6855bb7c750259"
  },
  {
   "cell_type": "code",
   "execution_count": 6,
   "outputs": [],
   "source": [
    "class ProbDist:\n",
    "    \"\"\"\n",
    "    A Base Class for Probability Distributions\n",
    "    \"\"\"\n",
    "    dim = 1\n",
    "    \n",
    "    def shape(self, size):\n",
    "        if size is None:\n",
    "            return None\n",
    "        else:\n",
    "            if self.dim == 1:\n",
    "                return (size,)\n",
    "            else: \n",
    "                return size, self.dim\n",
    "            \n",
    "    def rvs(self):\n",
    "        raise NotImplementedError\n",
    "        \n",
    "    def pdf(self,x):\n",
    "        raise NotImplementedError\n",
    "    \n",
    "class TwoParameterDist(ProbDist):\n",
    "    \"\"\"\n",
    "    A Base Class for 2-parameter distributions\n",
    "    \"\"\"\n",
    "    def __init__(self, loc = 0, scale = 1):\n",
    "        self.loc = loc\n",
    "        self.scale = scale\n",
    "    \n",
    "    \n",
    "class Normal(TwoParameterDist):\n",
    "    \"\"\"\n",
    "    A Normal probability distribution defined by its 1st and 2nd moments\n",
    "    \"\"\"\n",
    "    \n",
    "    def rvs(self, size = None):\n",
    "        if self.scale < 0: self.scale = self.scale*-1\n",
    "        else: \n",
    "            return random.normal(loc = self.loc, scale = self.scale, size = self.shape(size))\n",
    "    \n",
    "    def ppf(self, q):\n",
    "        return stats.norm.ppf(q, loc = self.loc, scale = self.scale)\n",
    "    "
   ],
   "metadata": {
    "collapsed": false,
    "ExecuteTime": {
     "end_time": "2023-10-14T16:06:56.811416Z",
     "start_time": "2023-10-14T16:06:56.743730Z"
    }
   },
   "id": "36e17e1a8760f3a5"
  },
  {
   "cell_type": "code",
   "execution_count": 4,
   "outputs": [],
   "source": [
    "class Normal2:\n",
    "    def __init__(self, mu, sigma):\n",
    "        self.mu = mu\n",
    "        self.sigma = sigma\n",
    "\n",
    "    def pdf(self, x):\n",
    "        return (\n",
    "                1 / np.sqrt(2 * self.sigma ** 2 * np.pi)\n",
    "                * np.exp(\n",
    "            - (x - self.mu) ** 2\n",
    "            / 2 * self.sigma ** 2\n",
    "        ))\n",
    "    def cdf(self, x):\n",
    "        return (\n",
    "            1/2*(scipy.special.erf(x-self.mu/np.sqrt(2*self.sigma**2)))\n",
    "        )"
   ],
   "metadata": {
    "collapsed": false,
    "ExecuteTime": {
     "end_time": "2023-10-14T14:46:13.288589Z",
     "start_time": "2023-10-14T14:46:13.192798Z"
    }
   },
   "id": "ae4b3d9129fa608e"
  },
  {
   "cell_type": "markdown",
   "source": [],
   "metadata": {
    "collapsed": false
   },
   "id": "732ef28b670fa6e1"
  }
 ],
 "metadata": {
  "kernelspec": {
   "display_name": "Python 3",
   "language": "python",
   "name": "python3"
  },
  "language_info": {
   "codemirror_mode": {
    "name": "ipython",
    "version": 2
   },
   "file_extension": ".py",
   "mimetype": "text/x-python",
   "name": "python",
   "nbconvert_exporter": "python",
   "pygments_lexer": "ipython2",
   "version": "2.7.6"
  }
 },
 "nbformat": 4,
 "nbformat_minor": 5
}
